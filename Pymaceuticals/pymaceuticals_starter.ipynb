{
 "cells": [
  {
   "cell_type": "markdown",
   "metadata": {},
   "source": [
    "## Observations and Insights "
   ]
  },
  {
   "cell_type": "markdown",
   "metadata": {},
   "source": []
  },
  {
   "cell_type": "code",
   "execution_count": 98,
   "metadata": {},
   "outputs": [
    {
     "output_type": "execute_result",
     "data": {
      "text/plain": [
       "  Mouse ID Drug Regimen   Sex  Age_months  Weight (g)  Timepoint  \\\n",
       "0     k403     Ramicane  Male          21          16          0   \n",
       "1     k403     Ramicane  Male          21          16          5   \n",
       "2     k403     Ramicane  Male          21          16         10   \n",
       "3     k403     Ramicane  Male          21          16         15   \n",
       "4     k403     Ramicane  Male          21          16         20   \n",
       "\n",
       "   Tumor Volume (mm3)  Metastatic Sites  \n",
       "0           45.000000                 0  \n",
       "1           38.825898                 0  \n",
       "2           35.014271                 1  \n",
       "3           34.223992                 1  \n",
       "4           32.997729                 1  "
      ],
      "text/html": "<div>\n<style scoped>\n    .dataframe tbody tr th:only-of-type {\n        vertical-align: middle;\n    }\n\n    .dataframe tbody tr th {\n        vertical-align: top;\n    }\n\n    .dataframe thead th {\n        text-align: right;\n    }\n</style>\n<table border=\"1\" class=\"dataframe\">\n  <thead>\n    <tr style=\"text-align: right;\">\n      <th></th>\n      <th>Mouse ID</th>\n      <th>Drug Regimen</th>\n      <th>Sex</th>\n      <th>Age_months</th>\n      <th>Weight (g)</th>\n      <th>Timepoint</th>\n      <th>Tumor Volume (mm3)</th>\n      <th>Metastatic Sites</th>\n    </tr>\n  </thead>\n  <tbody>\n    <tr>\n      <th>0</th>\n      <td>k403</td>\n      <td>Ramicane</td>\n      <td>Male</td>\n      <td>21</td>\n      <td>16</td>\n      <td>0</td>\n      <td>45.000000</td>\n      <td>0</td>\n    </tr>\n    <tr>\n      <th>1</th>\n      <td>k403</td>\n      <td>Ramicane</td>\n      <td>Male</td>\n      <td>21</td>\n      <td>16</td>\n      <td>5</td>\n      <td>38.825898</td>\n      <td>0</td>\n    </tr>\n    <tr>\n      <th>2</th>\n      <td>k403</td>\n      <td>Ramicane</td>\n      <td>Male</td>\n      <td>21</td>\n      <td>16</td>\n      <td>10</td>\n      <td>35.014271</td>\n      <td>1</td>\n    </tr>\n    <tr>\n      <th>3</th>\n      <td>k403</td>\n      <td>Ramicane</td>\n      <td>Male</td>\n      <td>21</td>\n      <td>16</td>\n      <td>15</td>\n      <td>34.223992</td>\n      <td>1</td>\n    </tr>\n    <tr>\n      <th>4</th>\n      <td>k403</td>\n      <td>Ramicane</td>\n      <td>Male</td>\n      <td>21</td>\n      <td>16</td>\n      <td>20</td>\n      <td>32.997729</td>\n      <td>1</td>\n    </tr>\n  </tbody>\n</table>\n</div>"
     },
     "metadata": {},
     "execution_count": 98
    }
   ],
   "source": [
    "# Dependencies and Setup\n",
    "import matplotlib.pyplot as plt\n",
    "import pandas as pd\n",
    "import scipy.stats as st\n",
    "\n",
    "# Study data files\n",
    "mouse_metadata_path = \"data/Mouse_metadata.csv\"\n",
    "study_results_path = \"data/Study_results.csv\"\n",
    "\n",
    "# Read the mouse data and the study results\n",
    "mouse_metadata = pd.read_csv(mouse_metadata_path)\n",
    "study_results = pd.read_csv(study_results_path)\n",
    "\n",
    "# Combine the data into a single dataset\n",
    "mouse_metadata.head(),study_results.head()\n",
    "merge_df = pd.merge(mouse_metadata,study_results, how = 'inner', on = 'Mouse ID')\n",
    "\n",
    "\n",
    "\n",
    "# Display the data table for preview\n",
    "merge_df.head()"
   ]
  },
  {
   "cell_type": "code",
   "execution_count": 119,
   "metadata": {},
   "outputs": [],
   "source": [
    "# checkpoint\n",
    "df = merge_df.copy()"
   ]
  },
  {
   "cell_type": "code",
   "execution_count": 120,
   "metadata": {},
   "outputs": [
    {
     "output_type": "execute_result",
     "data": {
      "text/plain": [
       "249"
      ]
     },
     "metadata": {},
     "execution_count": 120
    }
   ],
   "source": [
    "# Checking the number of mice.\n",
    "number_mice = df['Mouse ID'].nunique()\n",
    "number_mice"
   ]
  },
  {
   "cell_type": "code",
   "execution_count": 121,
   "metadata": {},
   "outputs": [
    {
     "output_type": "execute_result",
     "data": {
      "text/plain": [
       "1       k403\n",
       "3       k403\n",
       "5       k403\n",
       "7       k403\n",
       "11      s185\n",
       "        ... \n",
       "1880    z795\n",
       "1884    z969\n",
       "1886    z969\n",
       "1888    z969\n",
       "1890    z969\n",
       "Name: Mouse ID, Length: 731, dtype: object"
      ]
     },
     "metadata": {},
     "execution_count": 121
    }
   ],
   "source": [
    "# Getting the duplicate mice by ID number that shows up for Mouse ID and Timepoint. \n",
    "dup_time_id_list = df['Mouse ID'].loc[df.duplicated(\"Mouse ID\",keep='last') & df['Timepoint'] > 0]\n",
    "dup_time_id_list"
   ]
  },
  {
   "cell_type": "code",
   "execution_count": 122,
   "metadata": {},
   "outputs": [
    {
     "output_type": "execute_result",
     "data": {
      "text/plain": [
       "   index Mouse ID Drug Regimen     Sex  Age_months  Weight (g)  Timepoint  \\\n",
       "0      1     k403     Ramicane    Male          21          16          5   \n",
       "1      3     k403     Ramicane    Male          21          16         15   \n",
       "2      5     k403     Ramicane    Male          21          16         25   \n",
       "3      7     k403     Ramicane    Male          21          16         35   \n",
       "4     11     s185    Capomulin  Female           3          17          5   \n",
       "\n",
       "   Tumor Volume (mm3)  Metastatic Sites  \n",
       "0           38.825898                 0  \n",
       "1           34.223992                 1  \n",
       "2           33.464577                 1  \n",
       "3           26.546993                 1  \n",
       "4           43.878496                 0  "
      ],
      "text/html": "<div>\n<style scoped>\n    .dataframe tbody tr th:only-of-type {\n        vertical-align: middle;\n    }\n\n    .dataframe tbody tr th {\n        vertical-align: top;\n    }\n\n    .dataframe thead th {\n        text-align: right;\n    }\n</style>\n<table border=\"1\" class=\"dataframe\">\n  <thead>\n    <tr style=\"text-align: right;\">\n      <th></th>\n      <th>index</th>\n      <th>Mouse ID</th>\n      <th>Drug Regimen</th>\n      <th>Sex</th>\n      <th>Age_months</th>\n      <th>Weight (g)</th>\n      <th>Timepoint</th>\n      <th>Tumor Volume (mm3)</th>\n      <th>Metastatic Sites</th>\n    </tr>\n  </thead>\n  <tbody>\n    <tr>\n      <th>0</th>\n      <td>1</td>\n      <td>k403</td>\n      <td>Ramicane</td>\n      <td>Male</td>\n      <td>21</td>\n      <td>16</td>\n      <td>5</td>\n      <td>38.825898</td>\n      <td>0</td>\n    </tr>\n    <tr>\n      <th>1</th>\n      <td>3</td>\n      <td>k403</td>\n      <td>Ramicane</td>\n      <td>Male</td>\n      <td>21</td>\n      <td>16</td>\n      <td>15</td>\n      <td>34.223992</td>\n      <td>1</td>\n    </tr>\n    <tr>\n      <th>2</th>\n      <td>5</td>\n      <td>k403</td>\n      <td>Ramicane</td>\n      <td>Male</td>\n      <td>21</td>\n      <td>16</td>\n      <td>25</td>\n      <td>33.464577</td>\n      <td>1</td>\n    </tr>\n    <tr>\n      <th>3</th>\n      <td>7</td>\n      <td>k403</td>\n      <td>Ramicane</td>\n      <td>Male</td>\n      <td>21</td>\n      <td>16</td>\n      <td>35</td>\n      <td>26.546993</td>\n      <td>1</td>\n    </tr>\n    <tr>\n      <th>4</th>\n      <td>11</td>\n      <td>s185</td>\n      <td>Capomulin</td>\n      <td>Female</td>\n      <td>3</td>\n      <td>17</td>\n      <td>5</td>\n      <td>43.878496</td>\n      <td>0</td>\n    </tr>\n  </tbody>\n</table>\n</div>"
     },
     "metadata": {},
     "execution_count": 122
    }
   ],
   "source": [
    "# Optional: Get all the data for the duplicate mouse ID. \n",
    "df_dup = pd.DataFrame()\n",
    "df_dup = df.loc[df.duplicated(\"Mouse ID\",keep='last') & df['Timepoint'] > 0]\n",
    "df_dub = df_dup.reset_index()\n",
    "df_dub.head()"
   ]
  },
  {
   "cell_type": "code",
   "execution_count": 123,
   "metadata": {},
   "outputs": [
    {
     "output_type": "execute_result",
     "data": {
      "text/plain": [
       "    index Mouse ID Drug Regimen     Sex  Age_months  Weight (g)  Timepoint  \\\n",
       "3       7     k403     Ramicane    Male          21          16         35   \n",
       "7      17     s185    Capomulin  Female           3          17         35   \n",
       "11     27     x401    Capomulin  Female          16          15         35   \n",
       "15     37     m601    Capomulin    Male          22          17         35   \n",
       "19     47     g791     Ramicane    Male          11          16         35   \n",
       "\n",
       "    Tumor Volume (mm3)  Metastatic Sites  \n",
       "3            26.546993                 1  \n",
       "7            28.328531                 1  \n",
       "11           30.206825                 0  \n",
       "15           30.834357                 1  \n",
       "19           30.960392                 1  "
      ],
      "text/html": "<div>\n<style scoped>\n    .dataframe tbody tr th:only-of-type {\n        vertical-align: middle;\n    }\n\n    .dataframe tbody tr th {\n        vertical-align: top;\n    }\n\n    .dataframe thead th {\n        text-align: right;\n    }\n</style>\n<table border=\"1\" class=\"dataframe\">\n  <thead>\n    <tr style=\"text-align: right;\">\n      <th></th>\n      <th>index</th>\n      <th>Mouse ID</th>\n      <th>Drug Regimen</th>\n      <th>Sex</th>\n      <th>Age_months</th>\n      <th>Weight (g)</th>\n      <th>Timepoint</th>\n      <th>Tumor Volume (mm3)</th>\n      <th>Metastatic Sites</th>\n    </tr>\n  </thead>\n  <tbody>\n    <tr>\n      <th>3</th>\n      <td>7</td>\n      <td>k403</td>\n      <td>Ramicane</td>\n      <td>Male</td>\n      <td>21</td>\n      <td>16</td>\n      <td>35</td>\n      <td>26.546993</td>\n      <td>1</td>\n    </tr>\n    <tr>\n      <th>7</th>\n      <td>17</td>\n      <td>s185</td>\n      <td>Capomulin</td>\n      <td>Female</td>\n      <td>3</td>\n      <td>17</td>\n      <td>35</td>\n      <td>28.328531</td>\n      <td>1</td>\n    </tr>\n    <tr>\n      <th>11</th>\n      <td>27</td>\n      <td>x401</td>\n      <td>Capomulin</td>\n      <td>Female</td>\n      <td>16</td>\n      <td>15</td>\n      <td>35</td>\n      <td>30.206825</td>\n      <td>0</td>\n    </tr>\n    <tr>\n      <th>15</th>\n      <td>37</td>\n      <td>m601</td>\n      <td>Capomulin</td>\n      <td>Male</td>\n      <td>22</td>\n      <td>17</td>\n      <td>35</td>\n      <td>30.834357</td>\n      <td>1</td>\n    </tr>\n    <tr>\n      <th>19</th>\n      <td>47</td>\n      <td>g791</td>\n      <td>Ramicane</td>\n      <td>Male</td>\n      <td>11</td>\n      <td>16</td>\n      <td>35</td>\n      <td>30.960392</td>\n      <td>1</td>\n    </tr>\n  </tbody>\n</table>\n</div>"
     },
     "metadata": {},
     "execution_count": 123
    }
   ],
   "source": [
    "# Create a clean DataFrame by dropping the duplicate mouse by its ID.\n",
    "df_dup_drop = df_dub.drop_duplicates('Mouse ID',keep = 'last')\n",
    "df_dup_drop.head()"
   ]
  },
  {
   "cell_type": "code",
   "execution_count": 124,
   "metadata": {},
   "outputs": [
    {
     "output_type": "execute_result",
     "data": {
      "text/plain": [
       "222"
      ]
     },
     "metadata": {},
     "execution_count": 124
    }
   ],
   "source": [
    "# Checking the number of mice in the clean DataFrame.\n",
    "num_mice = df_dup_drop['Mouse ID'].count()\n",
    "num_mice"
   ]
  },
  {
   "cell_type": "markdown",
   "metadata": {},
   "source": [
    "## Summary Statistics"
   ]
  },
  {
   "cell_type": "code",
   "execution_count": 125,
   "metadata": {},
   "outputs": [],
   "source": [
    "df = df_dup_drop.copy()"
   ]
  },
  {
   "cell_type": "code",
   "execution_count": 170,
   "metadata": {},
   "outputs": [
    {
     "output_type": "execute_result",
     "data": {
      "text/plain": [
       "               Mean    Med    Var  St Dev  St Err\n",
       "Drug Regimen                                     \n",
       "Capomulin     38.21  38.95  26.74    5.17    1.03\n",
       "Ceftamin      56.34  57.17  24.67    4.97    1.11\n",
       "Infubinol     56.98  56.52  25.63    5.06    1.10\n",
       "Ketapril      59.72  60.30  46.36    6.81    1.45\n",
       "Naftisol      58.90  60.44  49.23    7.02    1.53\n",
       "Placebo       57.20  58.64  53.92    7.34    1.50\n",
       "Propriva      54.30  55.86  39.35    6.27    1.34\n",
       "Ramicane      38.18  37.78  21.08    4.59    0.94\n",
       "Stelasyn      58.23  57.61  49.60    7.04    1.54\n",
       "Zoniferol     55.90  57.30  43.78    6.62    1.41"
      ],
      "text/html": "<div>\n<style scoped>\n    .dataframe tbody tr th:only-of-type {\n        vertical-align: middle;\n    }\n\n    .dataframe tbody tr th {\n        vertical-align: top;\n    }\n\n    .dataframe thead th {\n        text-align: right;\n    }\n</style>\n<table border=\"1\" class=\"dataframe\">\n  <thead>\n    <tr style=\"text-align: right;\">\n      <th></th>\n      <th>Mean</th>\n      <th>Med</th>\n      <th>Var</th>\n      <th>St Dev</th>\n      <th>St Err</th>\n    </tr>\n    <tr>\n      <th>Drug Regimen</th>\n      <th></th>\n      <th></th>\n      <th></th>\n      <th></th>\n      <th></th>\n    </tr>\n  </thead>\n  <tbody>\n    <tr>\n      <th>Capomulin</th>\n      <td>38.21</td>\n      <td>38.95</td>\n      <td>26.74</td>\n      <td>5.17</td>\n      <td>1.03</td>\n    </tr>\n    <tr>\n      <th>Ceftamin</th>\n      <td>56.34</td>\n      <td>57.17</td>\n      <td>24.67</td>\n      <td>4.97</td>\n      <td>1.11</td>\n    </tr>\n    <tr>\n      <th>Infubinol</th>\n      <td>56.98</td>\n      <td>56.52</td>\n      <td>25.63</td>\n      <td>5.06</td>\n      <td>1.10</td>\n    </tr>\n    <tr>\n      <th>Ketapril</th>\n      <td>59.72</td>\n      <td>60.30</td>\n      <td>46.36</td>\n      <td>6.81</td>\n      <td>1.45</td>\n    </tr>\n    <tr>\n      <th>Naftisol</th>\n      <td>58.90</td>\n      <td>60.44</td>\n      <td>49.23</td>\n      <td>7.02</td>\n      <td>1.53</td>\n    </tr>\n    <tr>\n      <th>Placebo</th>\n      <td>57.20</td>\n      <td>58.64</td>\n      <td>53.92</td>\n      <td>7.34</td>\n      <td>1.50</td>\n    </tr>\n    <tr>\n      <th>Propriva</th>\n      <td>54.30</td>\n      <td>55.86</td>\n      <td>39.35</td>\n      <td>6.27</td>\n      <td>1.34</td>\n    </tr>\n    <tr>\n      <th>Ramicane</th>\n      <td>38.18</td>\n      <td>37.78</td>\n      <td>21.08</td>\n      <td>4.59</td>\n      <td>0.94</td>\n    </tr>\n    <tr>\n      <th>Stelasyn</th>\n      <td>58.23</td>\n      <td>57.61</td>\n      <td>49.60</td>\n      <td>7.04</td>\n      <td>1.54</td>\n    </tr>\n    <tr>\n      <th>Zoniferol</th>\n      <td>55.90</td>\n      <td>57.30</td>\n      <td>43.78</td>\n      <td>6.62</td>\n      <td>1.41</td>\n    </tr>\n  </tbody>\n</table>\n</div>"
     },
     "metadata": {},
     "execution_count": 170
    }
   ],
   "source": [
    "# Generate a summary statistics table of mean, median, variance, standard deviation, and SEM of the tumor volume for each regimen\n",
    "\n",
    "# Use groupby and summary statistical methods to calculate the following properties of each drug regimen: \n",
    "# mean, median, variance, standard deviation, and SEM of the tumor volume. \n",
    "\n",
    "group_drug = df.groupby('Drug Regimen')['Tumor Volume (mm3)']\n",
    "summary_mean = group_drug.mean().round(2)\n",
    "summary_med = group_drug.median().round(2)\n",
    "summary_var = group_drug.var().round(2)\n",
    "summary_std = group_drug.std().round(2)\n",
    "summary_sem = group_drug.sem().round(2)\n",
    "\n",
    "# Assemble the resulting series into a single summary dataframe.\n",
    "summary_table = pd.DataFrame()\n",
    "summary_table['Mean'] = summary_mean\n",
    "summary_table['Med'] = summary_med\n",
    "summary_table['Var'] = summary_var\n",
    "summary_table['St Dev'] = summary_std\n",
    "summary_table['St Err'] = summary_sem\n",
    "\n",
    "summary_table"
   ]
  },
  {
   "cell_type": "code",
   "execution_count": 177,
   "metadata": {},
   "outputs": [
    {
     "output_type": "execute_result",
     "data": {
      "text/plain": [
       "               Mean    Med    Var  St Dev  St Err\n",
       "Drug Regimen                                     \n",
       "Capomulin     38.21  38.95  26.74    5.17    1.03\n",
       "Ceftamin      56.34  57.17  24.67    4.97    1.11\n",
       "Infubinol     56.98  56.52  25.63    5.06    1.10\n",
       "Ketapril      59.72  60.30  46.36    6.81    1.45\n",
       "Naftisol      58.90  60.44  49.23    7.02    1.53\n",
       "Placebo       57.20  58.64  53.92    7.34    1.50\n",
       "Propriva      54.30  55.86  39.35    6.27    1.34\n",
       "Ramicane      38.18  37.78  21.08    4.59    0.94\n",
       "Stelasyn      58.23  57.61  49.60    7.04    1.54\n",
       "Zoniferol     55.90  57.30  43.78    6.62    1.41"
      ],
      "text/html": "<div>\n<style scoped>\n    .dataframe tbody tr th:only-of-type {\n        vertical-align: middle;\n    }\n\n    .dataframe tbody tr th {\n        vertical-align: top;\n    }\n\n    .dataframe thead th {\n        text-align: right;\n    }\n</style>\n<table border=\"1\" class=\"dataframe\">\n  <thead>\n    <tr style=\"text-align: right;\">\n      <th></th>\n      <th>Mean</th>\n      <th>Med</th>\n      <th>Var</th>\n      <th>St Dev</th>\n      <th>St Err</th>\n    </tr>\n    <tr>\n      <th>Drug Regimen</th>\n      <th></th>\n      <th></th>\n      <th></th>\n      <th></th>\n      <th></th>\n    </tr>\n  </thead>\n  <tbody>\n    <tr>\n      <th>Capomulin</th>\n      <td>38.21</td>\n      <td>38.95</td>\n      <td>26.74</td>\n      <td>5.17</td>\n      <td>1.03</td>\n    </tr>\n    <tr>\n      <th>Ceftamin</th>\n      <td>56.34</td>\n      <td>57.17</td>\n      <td>24.67</td>\n      <td>4.97</td>\n      <td>1.11</td>\n    </tr>\n    <tr>\n      <th>Infubinol</th>\n      <td>56.98</td>\n      <td>56.52</td>\n      <td>25.63</td>\n      <td>5.06</td>\n      <td>1.10</td>\n    </tr>\n    <tr>\n      <th>Ketapril</th>\n      <td>59.72</td>\n      <td>60.30</td>\n      <td>46.36</td>\n      <td>6.81</td>\n      <td>1.45</td>\n    </tr>\n    <tr>\n      <th>Naftisol</th>\n      <td>58.90</td>\n      <td>60.44</td>\n      <td>49.23</td>\n      <td>7.02</td>\n      <td>1.53</td>\n    </tr>\n    <tr>\n      <th>Placebo</th>\n      <td>57.20</td>\n      <td>58.64</td>\n      <td>53.92</td>\n      <td>7.34</td>\n      <td>1.50</td>\n    </tr>\n    <tr>\n      <th>Propriva</th>\n      <td>54.30</td>\n      <td>55.86</td>\n      <td>39.35</td>\n      <td>6.27</td>\n      <td>1.34</td>\n    </tr>\n    <tr>\n      <th>Ramicane</th>\n      <td>38.18</td>\n      <td>37.78</td>\n      <td>21.08</td>\n      <td>4.59</td>\n      <td>0.94</td>\n    </tr>\n    <tr>\n      <th>Stelasyn</th>\n      <td>58.23</td>\n      <td>57.61</td>\n      <td>49.60</td>\n      <td>7.04</td>\n      <td>1.54</td>\n    </tr>\n    <tr>\n      <th>Zoniferol</th>\n      <td>55.90</td>\n      <td>57.30</td>\n      <td>43.78</td>\n      <td>6.62</td>\n      <td>1.41</td>\n    </tr>\n  </tbody>\n</table>\n</div>"
     },
     "metadata": {},
     "execution_count": 177
    }
   ],
   "source": [
    "# Generate a summary statistics table of mean, median, variance, standard deviation, and SEM of the tumor volume for each regimen\n",
    "\n",
    "# Using the aggregation method, produce the same summary statistics in a single line\n",
    "summary_table = group_drug.agg(['mean','median','var','std','sem']).round(2)\n",
    "summary_table.columns = ['Mean', 'Med', 'Var', 'St Dev', 'St Err']\n",
    "summary_table"
   ]
  },
  {
   "cell_type": "markdown",
   "metadata": {},
   "source": [
    "## Bar and Pie Charts"
   ]
  },
  {
   "cell_type": "code",
   "execution_count": 9,
   "metadata": {},
   "outputs": [],
   "source": [
    "# Generate a bar plot showing the total number of unique mice tested on each drug regimen using pandas.\n",
    "\n"
   ]
  },
  {
   "cell_type": "code",
   "execution_count": 10,
   "metadata": {},
   "outputs": [],
   "source": [
    "# Generate a bar plot showing the total number of unique mice tested on each drug regimen using pyplot.\n",
    "\n"
   ]
  },
  {
   "cell_type": "code",
   "execution_count": 11,
   "metadata": {},
   "outputs": [],
   "source": [
    "# Generate a pie plot showing the distribution of female versus male mice using pandas\n",
    "\n"
   ]
  },
  {
   "cell_type": "code",
   "execution_count": 12,
   "metadata": {},
   "outputs": [],
   "source": [
    "# Generate a pie plot showing the distribution of female versus male mice using pyplot\n",
    "\n"
   ]
  },
  {
   "cell_type": "markdown",
   "metadata": {},
   "source": [
    "## Quartiles, Outliers and Boxplots"
   ]
  },
  {
   "cell_type": "code",
   "execution_count": 13,
   "metadata": {},
   "outputs": [],
   "source": [
    "# Calculate the final tumor volume of each mouse across four of the treatment regimens:  \n",
    "# Capomulin, Ramicane, Infubinol, and Ceftamin\n",
    "\n",
    "# Start by getting the last (greatest) timepoint for each mouse\n",
    "\n",
    "\n",
    "# Merge this group df with the original dataframe to get the tumor volume at the last timepoint\n"
   ]
  },
  {
   "cell_type": "code",
   "execution_count": 14,
   "metadata": {},
   "outputs": [],
   "source": [
    "# Put treatments into a list for for loop (and later for plot labels)\n",
    "\n",
    "\n",
    "# Create empty list to fill with tumor vol data (for plotting)\n",
    "\n",
    "\n",
    "# Calculate the IQR and quantitatively determine if there are any potential outliers. \n",
    "\n",
    "    \n",
    "    # Locate the rows which contain mice on each drug and get the tumor volumes\n",
    "    \n",
    "    \n",
    "    # add subset \n",
    "    \n",
    "    \n",
    "    # Determine outliers using upper and lower bounds\n",
    "    "
   ]
  },
  {
   "cell_type": "code",
   "execution_count": 15,
   "metadata": {},
   "outputs": [],
   "source": [
    "# Generate a box plot of the final tumor volume of each mouse across four regimens of interest\n"
   ]
  },
  {
   "cell_type": "markdown",
   "metadata": {},
   "source": [
    "## Line and Scatter Plots"
   ]
  },
  {
   "cell_type": "code",
   "execution_count": 16,
   "metadata": {},
   "outputs": [],
   "source": [
    "# Generate a line plot of tumor volume vs. time point for a mouse treated with Capomulin\n"
   ]
  },
  {
   "cell_type": "code",
   "execution_count": 17,
   "metadata": {},
   "outputs": [],
   "source": [
    "# Generate a scatter plot of average tumor volume vs. mouse weight for the Capomulin regimen\n"
   ]
  },
  {
   "cell_type": "markdown",
   "metadata": {},
   "source": [
    "## Correlation and Regression"
   ]
  },
  {
   "cell_type": "code",
   "execution_count": 18,
   "metadata": {},
   "outputs": [],
   "source": [
    "# Calculate the correlation coefficient and linear regression model \n",
    "# for mouse weight and average tumor volume for the Capomulin regimen\n"
   ]
  },
  {
   "cell_type": "code",
   "execution_count": null,
   "metadata": {},
   "outputs": [],
   "source": []
  }
 ],
 "metadata": {
  "anaconda-cloud": {},
  "kernelspec": {
   "name": "python3",
   "display_name": "Python 3.8.8 64-bit ('base': conda)"
  },
  "language_info": {
   "codemirror_mode": {
    "name": "ipython",
    "version": 3
   },
   "file_extension": ".py",
   "mimetype": "text/x-python",
   "name": "python",
   "nbconvert_exporter": "python",
   "pygments_lexer": "ipython3",
   "version": "3.8.8"
  },
  "interpreter": {
   "hash": "2b3fdd6b55428dfbcf1d35927dad233ac9d84a773d18215ec5e263ea0d5e3a08"
  }
 },
 "nbformat": 4,
 "nbformat_minor": 4
}